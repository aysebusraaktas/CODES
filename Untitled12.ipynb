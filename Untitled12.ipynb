{
  "nbformat": 4,
  "nbformat_minor": 0,
  "metadata": {
    "colab": {
      "provenance": []
    },
    "kernelspec": {
      "name": "python3",
      "display_name": "Python 3"
    },
    "language_info": {
      "name": "python"
    }
  },
  "cells": [
    {
      "cell_type": "code",
      "source": [
        "import pandas as pd\n",
        "\n",
        "df = pd.read_csv('country_vaccination_stats.csv')\n",
        "min_vaccinations = df.groupby('country')['daily_vaccinations'].min()\n",
        "df['daily_vaccinations'] = df['daily_vaccinations'].fillna(df['country'].map(min_vaccinations))\n",
        "df['daily_vaccinations'] = df.groupby('country')['daily_vaccinations'].transform(lambda x: x.fillna(0))\n",
        "df.to_csv('filled_vaccine_data2.csv', index=False)"
      ],
      "metadata": {
        "id": "ECiFzXXT5u5b"
      },
      "execution_count": 5,
      "outputs": []
    }
  ]
}