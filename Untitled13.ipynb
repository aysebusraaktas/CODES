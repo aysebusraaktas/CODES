{
  "nbformat": 4,
  "nbformat_minor": 0,
  "metadata": {
    "colab": {
      "provenance": []
    },
    "kernelspec": {
      "name": "python3",
      "display_name": "Python 3"
    },
    "language_info": {
      "name": "python"
    }
  },
  "cells": [
    {
      "cell_type": "code",
      "source": [
        "import pandas as pd\n",
        "df = pd.read_csv('filled_vaccine_data.csv')\n",
        "vaccinations_1_6_2021 = df[df['date'] == '1/6/2021']\n",
        "total_vaccinations_that_day = vaccinations_1_6_2021['daily_vaccinations'].sum()\n",
        "\n",
        "print(\"Total vaccinations on 1/6/2021:\", total_vaccinations_that_day)"
      ],
      "metadata": {
        "colab": {
          "base_uri": "https://localhost:8080/"
        },
        "id": "ABO_ttdw_COW",
        "outputId": "eebc69fb-b286-4151-ae91-ca2c43f7a030"
      },
      "execution_count": 6,
      "outputs": [
        {
          "output_type": "stream",
          "name": "stdout",
          "text": [
            "Total vaccinations on 1/6/2021: 1485255.0\n"
          ]
        }
      ]
    }
  ]
}