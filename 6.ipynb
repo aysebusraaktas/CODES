{
  "nbformat": 4,
  "nbformat_minor": 0,
  "metadata": {
    "colab": {
      "provenance": []
    },
    "kernelspec": {
      "name": "python3",
      "display_name": "Python 3"
    },
    "language_info": {
      "name": "python"
    }
  },
  "cells": [
    {
      "cell_type": "code",
      "source": [
        "import pandas as pd\n",
        "\n",
        "\n",
        "df = pd.read_csv('filled_vaccine_data.csv')\n",
        "median_daily_vaccinations = df.groupby('country')['daily_vaccinations'].median()\n",
        "\n",
        "top_3_countries = median_daily_vaccinations.sort_values(ascending=False).head(3)\n",
        "\n",
        "print(\"Top 3 countries with the highest median daily vaccination numbers:\")\n",
        "print(top_3_countries)"
      ],
      "metadata": {
        "colab": {
          "base_uri": "https://localhost:8080/"
        },
        "id": "idBmTD9b_26H",
        "outputId": "538c6425-681e-4817-a175-70d322b23a26"
      },
      "execution_count": 11,
      "outputs": [
        {
          "output_type": "stream",
          "name": "stdout",
          "text": [
            "Top 3 countries with the highest median daily vaccination numbers:\n",
            "country\n",
            "United States    378253.0\n",
            "China            276786.0\n",
            "India            173922.0\n",
            "Name: daily_vaccinations, dtype: float64\n"
          ]
        }
      ]
    }
  ]
}